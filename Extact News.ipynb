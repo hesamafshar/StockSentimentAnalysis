{
 "cells": [
  {
   "cell_type": "markdown",
   "id": "24820bfe",
   "metadata": {},
   "source": [
    " <strong> <font size=4 dir=rtl color='blue'> <center>پیش بینی قیمت سهام با استفاده از تحلیل احساسات روی داده های اخبار \n",
    "<center> <font><strong>\n",
    " <strong><font size=3 dir=rtl color='black'> <center>درس: مبانی علم داده ها<center> <font>   <strong> \n",
    " <font size=3 dir=rtl color='black'> <strong> <center>ارائه دهنده: حسام افشار<center><strong> <font>\n"
   ]
  },
  {
   "cell_type": "markdown",
   "id": "d83efc5e",
   "metadata": {},
   "source": [
    "<div style=\"text-align: justify; direction: rtl; font-family: 'B Nazanin'; font-size: 15px;\">\n",
    "تحلیل احساسات (Sentiment Analysis) به عنوان یکی از شاخه‌های یادگیری ماشین و پردازش زبان طبیعی، نقش مهمی در پیش‌بینی قیمت سهام بورس ایفا می‌کند. با توجه به تأثیرپذیری قیمت سهام از عوامل روان‌شناختی و رفتاری سرمایه‌گذاران، تحلیل احساسات از داده‌های متنی نظیر اخبار مالی، شبکه‌های اجتماعی، و دیدگاه‌های کاربران می‌تواند ابزاری قدرتمند برای درک روند بازار باشد. این رویکرد، اطلاعات ارزشمندی را از داده‌های غیرساختاریافته استخراج کرده و به سرمایه‌گذاران و تحلیل‌گران کمک می‌کند تا احساسات مثبت، منفی یا خنثی حاکم بر بازار را شناسایی کنند. به‌کارگیری تحلیل احساسات در ترکیب با داده‌های مالی سنتی، امکان پیش‌بینی دقیق‌تر نوسانات قیمت سهام را فراهم می‌کند و به تصمیم‌گیری‌های هوشمندانه‌تر منجر می‌شود. این موضوع به ویژه در شرایطی که بازارهای مالی تحت تأثیر اخبار فوری یا تغییرات غیرمنتظره قرار می‌گیرند، اهمیت بیشتری پیدا می‌کند."
   ]
  },
  {
   "cell_type": "markdown",
   "id": "8537e10a",
   "metadata": {},
   "source": [
    "<div style=\"text-align: justify; direction: rtl; font-family: 'B Nazanin'; font-size: 15px;\">\n",
    "در این تحقیق قصد دارم با استفاده از تحلیل احساسات (Sentiment Analysis) بر روی اخبار منتشر شده در سایت خبری اقتصاد آنلاین، قیمت سهام شرکت فولاد را پیش‌بینی کنم. این مطالعه با تمرکز بر داده‌های متنی مرتبط با اخبار و تحلیل‌های اقتصادی مرتبط با سهام فولاد، تلاش می‌کند تا تاثیر احساسات مثبت، منفی یا خنثی موجود در این اخبار را بر نوسانات قیمت شناسایی کند. هدف اصلی این تحقیق، استفاده از تکنیک‌های پردازش زبان طبیعی و یادگیری ماشین برای استخراج و تحلیل احساسات از متن اخبار و ترکیب این داده‌ها با اطلاعات مالی موجود است. این روش می‌تواند به درک بهتر رفتار بازار و ارائه پیش‌بینی‌های دقیق‌تر برای سهام فولاد کمک کند و راهکاری عملی برای تصمیم‌گیری هوشمندانه‌تر در بازار سرمایه ارائه دهد."
   ]
  },
  {
   "cell_type": "markdown",
   "id": "deb123df",
   "metadata": {},
   "source": [
    "<div style=\"text-align: justify; direction: rtl; font-family: 'B Nazanin'; font-size: 15px;\">\n",
    "این مجموعه کدها بخشی از فرآیند جمع‌آوری داده در تحقیق حاضر است که به هدف پیش‌بینی قیمت سهام شرکت فولاد بر اساس تحلیل احساسات اخبار اقتصادی طراحی شده است. در این بخش، با استفاده از ابزار Selenium برای خودکارسازی فرآیند وب‌کاوی، داده‌های متنی شامل عناوین و خلاصه اخبار مرتبط از وب‌سایت اقتصاد آنلاین استخراج می‌شوند. ابتدا بازه زمانی مورد نظر (23 آبان 1403 تا 23 آبان 1400) به صورت خودکار تولید و برای فیلتر کردن اخبار در وب‌سایت استفاده می‌شود. سپس، داده‌های متنی شامل عنوان، خلاصه، و تاریخ انتشار هر خبر بازیابی و در قالب یک داده‌جدول (DataFrame) سازماندهی می‌شوند. در نهایت، این داده‌ها به فرمت CSV ذخیره شده و به عنوان ورودی برای تحلیل احساسات و مدل‌سازی پیش‌بینی مورد استفاده قرار می‌گیرند. این مرحله نقش کلیدی در آماده‌سازی داده‌ها برای مراحل بعدی تحلیل و ارزیابی مدل دارد."
   ]
  },
  {
   "cell_type": "markdown",
   "id": "7aef23c6",
   "metadata": {},
   "source": [
    "<strong><div dir=rtl >\n",
    "<font size=4 >1) جمع آوری داده ها  <font><strong>"
   ]
  },
  {
   "cell_type": "code",
   "execution_count": 1,
   "id": "3921cac0",
   "metadata": {},
   "outputs": [
    {
     "name": "stderr",
     "output_type": "stream",
     "text": [
      "C:\\Users\\hesam\\anaconda3\\lib\\site-packages\\pandas\\core\\arrays\\masked.py:60: UserWarning: Pandas requires version '1.3.6' or newer of 'bottleneck' (version '1.3.5' currently installed).\n",
      "  from pandas.core import (\n"
     ]
    }
   ],
   "source": [
    "from selenium import webdriver\n",
    "from selenium.webdriver.common.by import By\n",
    "from selenium.webdriver.common.keys import Keys\n",
    "import pandas as pd\n"
   ]
  },
  {
   "cell_type": "code",
   "execution_count": 99,
   "id": "89daaa21",
   "metadata": {},
   "outputs": [],
   "source": [
    "driver = webdriver.Chrome()\n",
    "url = 'https://www.eghtesadonline.com/'\n",
    "driver.get(url)"
   ]
  },
  {
   "cell_type": "code",
   "execution_count": 103,
   "id": "fdef097b",
   "metadata": {},
   "outputs": [],
   "source": [
    "import jdatetime\n",
    "\n",
    "# Define start and end dates\n",
    "start_date = jdatetime.date(1403, 8, 23)\n",
    "end_date = jdatetime.date(1400, 8, 23)\n",
    "\n",
    "# Generate list of dates\n",
    "dates_list = []\n",
    "current_date = start_date\n",
    "\n",
    "while current_date >= end_date:\n",
    "    dates_list.append(current_date.strftime('%Y/%m/%d'))\n",
    "    current_date -= jdatetime.timedelta(days=1)  # Move one day back\n",
    "\n"
   ]
  },
  {
   "cell_type": "code",
   "execution_count": 104,
   "id": "b3b1322c",
   "metadata": {},
   "outputs": [],
   "source": [
    "news_data=[]\n"
   ]
  },
  {
   "cell_type": "code",
   "execution_count": 107,
   "id": "933ada71",
   "metadata": {},
   "outputs": [
    {
     "name": "stdout",
     "output_type": "stream",
     "text": [
      "1095\r"
     ]
    }
   ],
   "source": [
    "# Prepare to collect tweet data\n",
    "n=531\n",
    "\n",
    "for i in range(n,len(dates_list)):\n",
    "    to_date=driver.find_element(By.XPATH, \"//input[@name='to_date']\")\n",
    "    from_date=driver.find_element(By.XPATH, \"//input[@name='from_date']\")\n",
    "    to_date.clear()\n",
    "    from_date.clear()\n",
    "    to_date.send_keys(dates_list[i])\n",
    "    from_date.send_keys(dates_list[i])\n",
    "\n",
    "    submit=driver.find_element(By.XPATH, \"//input[@name='submitbutt']\")\n",
    "    try:\n",
    "        submit.click()\n",
    "    except:\n",
    "        remove_ads=driver.find_element(By.XPATH, \"//div[@class='yn-close']\")\n",
    "        remove_ads.click()\n",
    "        submit.click()\n",
    "    articles = driver.find_elements(By.XPATH, \"//article[@class='newsList']\")\n",
    "    \n",
    "    for article in articles:\n",
    "        title = article.find_element(By.XPATH, \".//h3[@class='title']\").text\n",
    "        summary=article.find_element(By.XPATH, \".//p[@class='summery']\").text\n",
    "        news_data.append((title,summary,dates_list[i]))\n",
    "    print(i, end=\"\\r\", flush=True)      \n",
    "         \n",
    "\n"
   ]
  },
  {
   "cell_type": "code",
   "execution_count": 108,
   "id": "9041aca9",
   "metadata": {},
   "outputs": [],
   "source": [
    "df = pd.DataFrame(news_data, columns=[\"Title\",\"Summary\", \"Date\"])"
   ]
  },
  {
   "cell_type": "code",
   "execution_count": 109,
   "id": "07ead4c5",
   "metadata": {},
   "outputs": [],
   "source": [
    "df.to_csv(\"EghtesadOnline-energy-400-403.csv\", index=False)"
   ]
  },
  {
   "cell_type": "code",
   "execution_count": 110,
   "id": "18a16180",
   "metadata": {
    "scrolled": true
   },
   "outputs": [
    {
     "data": {
      "text/html": [
       "<div>\n",
       "<style scoped>\n",
       "    .dataframe tbody tr th:only-of-type {\n",
       "        vertical-align: middle;\n",
       "    }\n",
       "\n",
       "    .dataframe tbody tr th {\n",
       "        vertical-align: top;\n",
       "    }\n",
       "\n",
       "    .dataframe thead th {\n",
       "        text-align: right;\n",
       "    }\n",
       "</style>\n",
       "<table border=\"1\" class=\"dataframe\">\n",
       "  <thead>\n",
       "    <tr style=\"text-align: right;\">\n",
       "      <th></th>\n",
       "      <th>Title</th>\n",
       "      <th>Summary</th>\n",
       "      <th>Date</th>\n",
       "    </tr>\n",
       "  </thead>\n",
       "  <tbody>\n",
       "    <tr>\n",
       "      <th>0</th>\n",
       "      <td>قیمت بنزین همراه با آزادسازی افزایش می‌یابد؟</td>\n",
       "      <td>برخی کارشناسان مصوبه دولت درباره آزادسازی وارد...</td>\n",
       "      <td>1403/08/22</td>\n",
       "    </tr>\n",
       "    <tr>\n",
       "      <th>1</th>\n",
       "      <td>بنزین سوپر وارد می‌شود اما فقط برای خودروهای خاص</td>\n",
       "      <td>عضو کمیسیون اصل ۹۰ مجلس با بیان این‌که واردات ...</td>\n",
       "      <td>1403/08/22</td>\n",
       "    </tr>\n",
       "    <tr>\n",
       "      <th>2</th>\n",
       "      <td>فروش بنزین سوپر به قیمت آزاد تصویب شد</td>\n",
       "      <td>با مصوبه هیئت وزیران، واردات بنزین سوپر آزاد ش...</td>\n",
       "      <td>1403/08/22</td>\n",
       "    </tr>\n",
       "    <tr>\n",
       "      <th>3</th>\n",
       "      <td>راهکار عجیب وزارت نفت برای کاهش قاچاق سوخت</td>\n",
       "      <td>با توجه به اختلاف شدید قیمت سوخت در داخل و خار...</td>\n",
       "      <td>1403/08/22</td>\n",
       "    </tr>\n",
       "    <tr>\n",
       "      <th>4</th>\n",
       "      <td>قیمت بنزین در ۱۴۰۴ گران می‌شود؟ + فیلم</td>\n",
       "      <td>سخنگوی دولت در نشست خبری خود گفت: بودجه ۱۴۰۴ ب...</td>\n",
       "      <td>1403/08/22</td>\n",
       "    </tr>\n",
       "    <tr>\n",
       "      <th>...</th>\n",
       "      <td>...</td>\n",
       "      <td>...</td>\n",
       "      <td>...</td>\n",
       "    </tr>\n",
       "    <tr>\n",
       "      <th>4577</th>\n",
       "      <td>برنامه جدید برای روستاها</td>\n",
       "      <td>وزیر نیرو گفت: شورای جهادی آب در کشور از یک ما...</td>\n",
       "      <td>1400/08/23</td>\n",
       "    </tr>\n",
       "    <tr>\n",
       "      <th>4578</th>\n",
       "      <td>ذخایر آب تهران با کمبود ۴۱درصدی مواجه است</td>\n",
       "      <td>معاون شرکت تامین و تصفیه آبفای تهران درباره وض...</td>\n",
       "      <td>1400/08/23</td>\n",
       "    </tr>\n",
       "    <tr>\n",
       "      <th>4579</th>\n",
       "      <td>قیر رایگان به بورس نمی‌ رود / رونمایی از سامان...</td>\n",
       "      <td>محمدی گفت: سامانه‌ای برای معاملات قیر تهاتری ط...</td>\n",
       "      <td>1400/08/23</td>\n",
       "    </tr>\n",
       "    <tr>\n",
       "      <th>4580</th>\n",
       "      <td>تبعات تاسیس سد آبی جدید ترکیه برای ایران</td>\n",
       "      <td>محمد جمال ولی سامان با اشاره به تلاش ناکام ایر...</td>\n",
       "      <td>1400/08/23</td>\n",
       "    </tr>\n",
       "    <tr>\n",
       "      <th>4581</th>\n",
       "      <td>تمدید تحریم نفتی علیه ایران</td>\n",
       "      <td>روز جمعه رییس‌جمهور آمریکا اعلام کرد که تولیدک...</td>\n",
       "      <td>1400/08/23</td>\n",
       "    </tr>\n",
       "  </tbody>\n",
       "</table>\n",
       "<p>4582 rows × 3 columns</p>\n",
       "</div>"
      ],
      "text/plain": [
       "                                                  Title  \\\n",
       "0          قیمت بنزین همراه با آزادسازی افزایش می‌یابد؟   \n",
       "1      بنزین سوپر وارد می‌شود اما فقط برای خودروهای خاص   \n",
       "2                 فروش بنزین سوپر به قیمت آزاد تصویب شد   \n",
       "3            راهکار عجیب وزارت نفت برای کاهش قاچاق سوخت   \n",
       "4                قیمت بنزین در ۱۴۰۴ گران می‌شود؟ + فیلم   \n",
       "...                                                 ...   \n",
       "4577                           برنامه جدید برای روستاها   \n",
       "4578          ذخایر آب تهران با کمبود ۴۱درصدی مواجه است   \n",
       "4579  قیر رایگان به بورس نمی‌ رود / رونمایی از سامان...   \n",
       "4580           تبعات تاسیس سد آبی جدید ترکیه برای ایران   \n",
       "4581                        تمدید تحریم نفتی علیه ایران   \n",
       "\n",
       "                                                Summary        Date  \n",
       "0     برخی کارشناسان مصوبه دولت درباره آزادسازی وارد...  1403/08/22  \n",
       "1     عضو کمیسیون اصل ۹۰ مجلس با بیان این‌که واردات ...  1403/08/22  \n",
       "2     با مصوبه هیئت وزیران، واردات بنزین سوپر آزاد ش...  1403/08/22  \n",
       "3     با توجه به اختلاف شدید قیمت سوخت در داخل و خار...  1403/08/22  \n",
       "4     سخنگوی دولت در نشست خبری خود گفت: بودجه ۱۴۰۴ ب...  1403/08/22  \n",
       "...                                                 ...         ...  \n",
       "4577  وزیر نیرو گفت: شورای جهادی آب در کشور از یک ما...  1400/08/23  \n",
       "4578  معاون شرکت تامین و تصفیه آبفای تهران درباره وض...  1400/08/23  \n",
       "4579  محمدی گفت: سامانه‌ای برای معاملات قیر تهاتری ط...  1400/08/23  \n",
       "4580  محمد جمال ولی سامان با اشاره به تلاش ناکام ایر...  1400/08/23  \n",
       "4581  روز جمعه رییس‌جمهور آمریکا اعلام کرد که تولیدک...  1400/08/23  \n",
       "\n",
       "[4582 rows x 3 columns]"
      ]
     },
     "execution_count": 110,
     "metadata": {},
     "output_type": "execute_result"
    }
   ],
   "source": [
    "df"
   ]
  },
  {
   "cell_type": "markdown",
   "id": "322dc853",
   "metadata": {},
   "source": [
    "<div style=\"text-align: justify; direction: rtl; font-family: 'B Nazanin'; font-size: 15px;\">\n",
    "همچنین داده های قیمت سهام برای بازه مورد نظر با استفاده از کتابخانه pytse_client به صورت زیر جمع آوری میشود:"
   ]
  },
  {
   "cell_type": "code",
   "execution_count": null,
   "id": "e8568d02",
   "metadata": {},
   "outputs": [],
   "source": [
    "import pytse_client as tse\n",
    "import jdatetime\n",
    "\n",
    "DATA=tse.download(symbols=\"فولاد\",adjust=True,include_jdate=True)\n",
    "df=DATA['فولاد']\n",
    "start=df[df['jdate']==jdatetime.date(1400, 8, 23)].index[0]\n",
    "end=df[df['jdate']==jdatetime.date(1403, 8, 23)].index[0]\n",
    "df.to_csv('Foolad_stock.csv',index=False)"
   ]
  }
 ],
 "metadata": {
  "kernelspec": {
   "display_name": "Python 3 (ipykernel)",
   "language": "python",
   "name": "python3"
  },
  "language_info": {
   "codemirror_mode": {
    "name": "ipython",
    "version": 3
   },
   "file_extension": ".py",
   "mimetype": "text/x-python",
   "name": "python",
   "nbconvert_exporter": "python",
   "pygments_lexer": "ipython3",
   "version": "3.9.16"
  }
 },
 "nbformat": 4,
 "nbformat_minor": 5
}
